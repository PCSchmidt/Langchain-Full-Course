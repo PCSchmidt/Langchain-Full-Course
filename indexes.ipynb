{
 "cells": [
  {
   "cell_type": "code",
   "execution_count": 1,
   "metadata": {},
   "outputs": [
    {
     "name": "stdout",
     "output_type": "stream",
     "text": [
      "Requirement already satisfied: langchain in c:\\users\\pchri\\documents\\learningstuff\\langchain\\venv\\lib\\site-packages (0.0.202)\n",
      "Requirement already satisfied: PyYAML>=5.4.1 in c:\\users\\pchri\\documents\\learningstuff\\langchain\\venv\\lib\\site-packages (from langchain) (6.0)\n",
      "Requirement already satisfied: SQLAlchemy<3,>=1.4 in c:\\users\\pchri\\documents\\learningstuff\\langchain\\venv\\lib\\site-packages (from langchain) (2.0.16)\n",
      "Requirement already satisfied: aiohttp<4.0.0,>=3.8.3 in c:\\users\\pchri\\documents\\learningstuff\\langchain\\venv\\lib\\site-packages (from langchain) (3.8.4)\n",
      "Requirement already satisfied: dataclasses-json<0.6.0,>=0.5.7 in c:\\users\\pchri\\documents\\learningstuff\\langchain\\venv\\lib\\site-packages (from langchain) (0.5.8)\n",
      "Requirement already satisfied: langchainplus-sdk>=0.0.9 in c:\\users\\pchri\\documents\\learningstuff\\langchain\\venv\\lib\\site-packages (from langchain) (0.0.10)\n",
      "Requirement already satisfied: numexpr<3.0.0,>=2.8.4 in c:\\users\\pchri\\documents\\learningstuff\\langchain\\venv\\lib\\site-packages (from langchain) (2.8.4)\n",
      "Requirement already satisfied: numpy<2,>=1 in c:\\users\\pchri\\documents\\learningstuff\\langchain\\venv\\lib\\site-packages (from langchain) (1.25.0)\n",
      "Requirement already satisfied: openapi-schema-pydantic<2.0,>=1.2 in c:\\users\\pchri\\documents\\learningstuff\\langchain\\venv\\lib\\site-packages (from langchain) (1.2.4)\n",
      "Requirement already satisfied: pydantic<2,>=1 in c:\\users\\pchri\\documents\\learningstuff\\langchain\\venv\\lib\\site-packages (from langchain) (1.10.9)\n",
      "Requirement already satisfied: requests<3,>=2 in c:\\users\\pchri\\documents\\learningstuff\\langchain\\venv\\lib\\site-packages (from langchain) (2.31.0)\n",
      "Requirement already satisfied: tenacity<9.0.0,>=8.1.0 in c:\\users\\pchri\\documents\\learningstuff\\langchain\\venv\\lib\\site-packages (from langchain) (8.2.2)\n",
      "Requirement already satisfied: attrs>=17.3.0 in c:\\users\\pchri\\documents\\learningstuff\\langchain\\venv\\lib\\site-packages (from aiohttp<4.0.0,>=3.8.3->langchain) (23.1.0)\n",
      "Requirement already satisfied: charset-normalizer<4.0,>=2.0 in c:\\users\\pchri\\documents\\learningstuff\\langchain\\venv\\lib\\site-packages (from aiohttp<4.0.0,>=3.8.3->langchain) (3.1.0)\n",
      "Requirement already satisfied: multidict<7.0,>=4.5 in c:\\users\\pchri\\documents\\learningstuff\\langchain\\venv\\lib\\site-packages (from aiohttp<4.0.0,>=3.8.3->langchain) (6.0.4)\n",
      "Requirement already satisfied: async-timeout<5.0,>=4.0.0a3 in c:\\users\\pchri\\documents\\learningstuff\\langchain\\venv\\lib\\site-packages (from aiohttp<4.0.0,>=3.8.3->langchain) (4.0.2)\n",
      "Requirement already satisfied: yarl<2.0,>=1.0 in c:\\users\\pchri\\documents\\learningstuff\\langchain\\venv\\lib\\site-packages (from aiohttp<4.0.0,>=3.8.3->langchain) (1.9.2)\n",
      "Requirement already satisfied: frozenlist>=1.1.1 in c:\\users\\pchri\\documents\\learningstuff\\langchain\\venv\\lib\\site-packages (from aiohttp<4.0.0,>=3.8.3->langchain) (1.3.3)\n",
      "Requirement already satisfied: aiosignal>=1.1.2 in c:\\users\\pchri\\documents\\learningstuff\\langchain\\venv\\lib\\site-packages (from aiohttp<4.0.0,>=3.8.3->langchain) (1.3.1)\n",
      "Requirement already satisfied: marshmallow<4.0.0,>=3.3.0 in c:\\users\\pchri\\documents\\learningstuff\\langchain\\venv\\lib\\site-packages (from dataclasses-json<0.6.0,>=0.5.7->langchain) (3.19.0)\n",
      "Requirement already satisfied: marshmallow-enum<2.0.0,>=1.5.1 in c:\\users\\pchri\\documents\\learningstuff\\langchain\\venv\\lib\\site-packages (from dataclasses-json<0.6.0,>=0.5.7->langchain) (1.5.1)\n",
      "Requirement already satisfied: typing-inspect>=0.4.0 in c:\\users\\pchri\\documents\\learningstuff\\langchain\\venv\\lib\\site-packages (from dataclasses-json<0.6.0,>=0.5.7->langchain) (0.9.0)\n",
      "Requirement already satisfied: typing-extensions>=4.2.0 in c:\\users\\pchri\\documents\\learningstuff\\langchain\\venv\\lib\\site-packages (from pydantic<2,>=1->langchain) (4.6.3)\n",
      "Requirement already satisfied: idna<4,>=2.5 in c:\\users\\pchri\\documents\\learningstuff\\langchain\\venv\\lib\\site-packages (from requests<3,>=2->langchain) (3.4)\n",
      "Requirement already satisfied: urllib3<3,>=1.21.1 in c:\\users\\pchri\\documents\\learningstuff\\langchain\\venv\\lib\\site-packages (from requests<3,>=2->langchain) (2.0.3)\n",
      "Requirement already satisfied: certifi>=2017.4.17 in c:\\users\\pchri\\documents\\learningstuff\\langchain\\venv\\lib\\site-packages (from requests<3,>=2->langchain) (2023.5.7)\n",
      "Requirement already satisfied: greenlet!=0.4.17 in c:\\users\\pchri\\documents\\learningstuff\\langchain\\venv\\lib\\site-packages (from SQLAlchemy<3,>=1.4->langchain) (2.0.2)\n",
      "Requirement already satisfied: packaging>=17.0 in c:\\users\\pchri\\documents\\learningstuff\\langchain\\venv\\lib\\site-packages (from marshmallow<4.0.0,>=3.3.0->dataclasses-json<0.6.0,>=0.5.7->langchain) (23.1)\n",
      "Requirement already satisfied: mypy-extensions>=0.3.0 in c:\\users\\pchri\\documents\\learningstuff\\langchain\\venv\\lib\\site-packages (from typing-inspect>=0.4.0->dataclasses-json<0.6.0,>=0.5.7->langchain) (1.0.0)\n",
      "Requirement already satisfied: openai in c:\\users\\pchri\\documents\\learningstuff\\langchain\\venv\\lib\\site-packages (0.27.8)\n",
      "Requirement already satisfied: requests>=2.20 in c:\\users\\pchri\\documents\\learningstuff\\langchain\\venv\\lib\\site-packages (from openai) (2.31.0)\n",
      "Requirement already satisfied: tqdm in c:\\users\\pchri\\documents\\learningstuff\\langchain\\venv\\lib\\site-packages (from openai) (4.65.0)\n",
      "Requirement already satisfied: aiohttp in c:\\users\\pchri\\documents\\learningstuff\\langchain\\venv\\lib\\site-packages (from openai) (3.8.4)\n",
      "Requirement already satisfied: charset-normalizer<4,>=2 in c:\\users\\pchri\\documents\\learningstuff\\langchain\\venv\\lib\\site-packages (from requests>=2.20->openai) (3.1.0)\n",
      "Requirement already satisfied: idna<4,>=2.5 in c:\\users\\pchri\\documents\\learningstuff\\langchain\\venv\\lib\\site-packages (from requests>=2.20->openai) (3.4)\n",
      "Requirement already satisfied: urllib3<3,>=1.21.1 in c:\\users\\pchri\\documents\\learningstuff\\langchain\\venv\\lib\\site-packages (from requests>=2.20->openai) (2.0.3)\n",
      "Requirement already satisfied: certifi>=2017.4.17 in c:\\users\\pchri\\documents\\learningstuff\\langchain\\venv\\lib\\site-packages (from requests>=2.20->openai) (2023.5.7)\n",
      "Requirement already satisfied: attrs>=17.3.0 in c:\\users\\pchri\\documents\\learningstuff\\langchain\\venv\\lib\\site-packages (from aiohttp->openai) (23.1.0)\n",
      "Requirement already satisfied: multidict<7.0,>=4.5 in c:\\users\\pchri\\documents\\learningstuff\\langchain\\venv\\lib\\site-packages (from aiohttp->openai) (6.0.4)\n",
      "Requirement already satisfied: async-timeout<5.0,>=4.0.0a3 in c:\\users\\pchri\\documents\\learningstuff\\langchain\\venv\\lib\\site-packages (from aiohttp->openai) (4.0.2)\n",
      "Requirement already satisfied: yarl<2.0,>=1.0 in c:\\users\\pchri\\documents\\learningstuff\\langchain\\venv\\lib\\site-packages (from aiohttp->openai) (1.9.2)\n",
      "Requirement already satisfied: frozenlist>=1.1.1 in c:\\users\\pchri\\documents\\learningstuff\\langchain\\venv\\lib\\site-packages (from aiohttp->openai) (1.3.3)\n",
      "Requirement already satisfied: aiosignal>=1.1.2 in c:\\users\\pchri\\documents\\learningstuff\\langchain\\venv\\lib\\site-packages (from aiohttp->openai) (1.3.1)\n",
      "Requirement already satisfied: colorama in c:\\users\\pchri\\documents\\learningstuff\\langchain\\venv\\lib\\site-packages (from tqdm->openai) (0.4.6)\n",
      "Requirement already satisfied: python-dotenv in c:\\users\\pchri\\documents\\learningstuff\\langchain\\venv\\lib\\site-packages (1.0.0)\n",
      "^C\n"
     ]
    }
   ],
   "source": [
    "!pip install langchain\n",
    "!pip install openai\n",
    "!pip install python-dotenv\n",
    "!pip install faiss-cpu"
   ]
  },
  {
   "cell_type": "code",
   "execution_count": 2,
   "metadata": {},
   "outputs": [
    {
     "name": "stdout",
     "output_type": "stream",
     "text": [
      "Collecting faiss-cpu\n",
      "  Downloading faiss_cpu-1.7.4-cp311-cp311-win_amd64.whl (10.8 MB)\n",
      "                                              0.0/10.8 MB ? eta -:--:--\n",
      "                                              0.1/10.8 MB 3.3 MB/s eta 0:00:04\n",
      "     -                                        0.3/10.8 MB 3.2 MB/s eta 0:00:04\n",
      "     --                                       0.6/10.8 MB 4.1 MB/s eta 0:00:03\n",
      "     ---                                      0.9/10.8 MB 5.2 MB/s eta 0:00:02\n",
      "     ---                                      0.9/10.8 MB 5.2 MB/s eta 0:00:02\n",
      "     -----                                    1.4/10.8 MB 5.4 MB/s eta 0:00:02\n",
      "     -----                                    1.4/10.8 MB 5.4 MB/s eta 0:00:02\n",
      "     -------                                  1.9/10.8 MB 5.1 MB/s eta 0:00:02\n",
      "     -------                                  2.0/10.8 MB 5.3 MB/s eta 0:00:02\n",
      "     -------                                  2.0/10.8 MB 5.3 MB/s eta 0:00:02\n",
      "     ---------                                2.4/10.8 MB 4.9 MB/s eta 0:00:02\n",
      "     ---------                                2.6/10.8 MB 4.5 MB/s eta 0:00:02\n",
      "     ----------                               2.8/10.8 MB 4.6 MB/s eta 0:00:02\n",
      "     ----------                               2.9/10.8 MB 4.3 MB/s eta 0:00:02\n",
      "     -----------                              3.1/10.8 MB 4.4 MB/s eta 0:00:02\n",
      "     ------------                             3.4/10.8 MB 4.5 MB/s eta 0:00:02\n",
      "     -------------                            3.6/10.8 MB 4.5 MB/s eta 0:00:02\n",
      "     --------------                           3.9/10.8 MB 4.6 MB/s eta 0:00:02\n",
      "     ---------------                          4.1/10.8 MB 4.5 MB/s eta 0:00:02\n",
      "     ---------------                          4.2/10.8 MB 4.5 MB/s eta 0:00:02\n",
      "     ----------------                         4.5/10.8 MB 4.6 MB/s eta 0:00:02\n",
      "     -----------------                        4.8/10.8 MB 4.6 MB/s eta 0:00:02\n",
      "     -----------------                        4.8/10.8 MB 4.6 MB/s eta 0:00:02\n",
      "     -----------------                        4.8/10.8 MB 4.6 MB/s eta 0:00:02\n",
      "     -----------------                        4.8/10.8 MB 4.6 MB/s eta 0:00:02\n",
      "     -----------------                        4.8/10.8 MB 4.6 MB/s eta 0:00:02\n",
      "     -----------------                        4.8/10.8 MB 4.6 MB/s eta 0:00:02\n",
      "     -----------------                        4.8/10.8 MB 4.6 MB/s eta 0:00:02\n",
      "     -----------------                        4.8/10.8 MB 4.6 MB/s eta 0:00:02\n",
      "     -----------------                        4.8/10.8 MB 3.5 MB/s eta 0:00:02\n",
      "     -----------------                        4.8/10.8 MB 3.5 MB/s eta 0:00:02\n",
      "     ------------------                       4.9/10.8 MB 3.3 MB/s eta 0:00:02\n",
      "     ------------------                       4.9/10.8 MB 3.3 MB/s eta 0:00:02\n",
      "     ------------------                       4.9/10.8 MB 3.3 MB/s eta 0:00:02\n",
      "     ------------------                       5.0/10.8 MB 3.0 MB/s eta 0:00:02\n",
      "     ------------------                       5.0/10.8 MB 3.0 MB/s eta 0:00:02\n",
      "     ------------------                       5.0/10.8 MB 2.9 MB/s eta 0:00:02\n",
      "     ------------------                       5.0/10.8 MB 2.9 MB/s eta 0:00:02\n",
      "     ------------------                       5.0/10.8 MB 2.9 MB/s eta 0:00:02\n",
      "     ------------------                       5.0/10.8 MB 2.9 MB/s eta 0:00:02\n",
      "     ------------------                       5.0/10.8 MB 2.9 MB/s eta 0:00:02\n",
      "     ------------------                       5.0/10.8 MB 2.9 MB/s eta 0:00:02\n",
      "     -------------------                      5.1/10.8 MB 2.6 MB/s eta 0:00:03\n",
      "     -------------------                      5.2/10.8 MB 2.5 MB/s eta 0:00:03\n",
      "     -------------------                      5.2/10.8 MB 2.5 MB/s eta 0:00:03\n",
      "     -------------------                      5.2/10.8 MB 2.4 MB/s eta 0:00:03\n",
      "     -------------------                      5.3/10.8 MB 2.4 MB/s eta 0:00:03\n",
      "     --------------------                     5.4/10.8 MB 2.4 MB/s eta 0:00:03\n",
      "     --------------------                     5.5/10.8 MB 2.4 MB/s eta 0:00:03\n",
      "     --------------------                     5.5/10.8 MB 2.4 MB/s eta 0:00:03\n",
      "     --------------------                     5.6/10.8 MB 2.4 MB/s eta 0:00:03\n",
      "     --------------------                     5.6/10.8 MB 2.4 MB/s eta 0:00:03\n",
      "     --------------------                     5.6/10.8 MB 2.4 MB/s eta 0:00:03\n",
      "     --------------------                     5.6/10.8 MB 2.4 MB/s eta 0:00:03\n",
      "     --------------------                     5.6/10.8 MB 2.4 MB/s eta 0:00:03\n",
      "     ---------------------                    5.7/10.8 MB 2.2 MB/s eta 0:00:03\n",
      "     ---------------------                    5.7/10.8 MB 2.2 MB/s eta 0:00:03\n",
      "     ---------------------                    5.7/10.8 MB 2.1 MB/s eta 0:00:03\n",
      "     ---------------------                    5.8/10.8 MB 2.1 MB/s eta 0:00:03\n",
      "     ---------------------                    5.8/10.8 MB 2.1 MB/s eta 0:00:03\n",
      "     ---------------------                    5.8/10.8 MB 2.1 MB/s eta 0:00:03\n",
      "     ---------------------                    5.8/10.8 MB 2.1 MB/s eta 0:00:03\n",
      "     ---------------------                    5.8/10.8 MB 2.1 MB/s eta 0:00:03\n",
      "     ---------------------                    5.9/10.8 MB 2.0 MB/s eta 0:00:03\n",
      "     ----------------------                   5.9/10.8 MB 2.0 MB/s eta 0:00:03\n",
      "     ----------------------                   6.0/10.8 MB 1.9 MB/s eta 0:00:03\n",
      "     ----------------------                   6.0/10.8 MB 1.9 MB/s eta 0:00:03\n",
      "     ----------------------                   6.0/10.8 MB 1.9 MB/s eta 0:00:03\n",
      "     ----------------------                   6.0/10.8 MB 1.9 MB/s eta 0:00:03\n",
      "     ----------------------                   6.1/10.8 MB 1.9 MB/s eta 0:00:03\n",
      "     ----------------------                   6.1/10.8 MB 1.8 MB/s eta 0:00:03\n",
      "     ----------------------                   6.2/10.8 MB 1.8 MB/s eta 0:00:03\n",
      "     -----------------------                  6.2/10.8 MB 1.8 MB/s eta 0:00:03\n",
      "     -----------------------                  6.2/10.8 MB 1.8 MB/s eta 0:00:03\n",
      "     -----------------------                  6.3/10.8 MB 1.8 MB/s eta 0:00:03\n",
      "     -----------------------                  6.3/10.8 MB 1.8 MB/s eta 0:00:03\n",
      "     -----------------------                  6.3/10.8 MB 1.8 MB/s eta 0:00:03\n",
      "     -----------------------                  6.3/10.8 MB 1.7 MB/s eta 0:00:03\n",
      "     -----------------------                  6.3/10.8 MB 1.7 MB/s eta 0:00:03\n",
      "     -----------------------                  6.4/10.8 MB 1.7 MB/s eta 0:00:03\n",
      "     -----------------------                  6.4/10.8 MB 1.7 MB/s eta 0:00:03\n",
      "     -----------------------                  6.4/10.8 MB 1.7 MB/s eta 0:00:03\n",
      "     ------------------------                 6.5/10.8 MB 1.7 MB/s eta 0:00:03\n",
      "     ------------------------                 6.5/10.8 MB 1.7 MB/s eta 0:00:03\n",
      "     ------------------------                 6.5/10.8 MB 1.7 MB/s eta 0:00:03\n",
      "     ------------------------                 6.5/10.8 MB 1.6 MB/s eta 0:00:03\n",
      "     ------------------------                 6.5/10.8 MB 1.6 MB/s eta 0:00:03\n",
      "     ------------------------                 6.5/10.8 MB 1.6 MB/s eta 0:00:03\n",
      "     ------------------------                 6.6/10.8 MB 1.6 MB/s eta 0:00:03\n",
      "     ------------------------                 6.6/10.8 MB 1.6 MB/s eta 0:00:03\n",
      "     ------------------------                 6.6/10.8 MB 1.6 MB/s eta 0:00:03\n",
      "     ------------------------                 6.6/10.8 MB 1.6 MB/s eta 0:00:03\n",
      "     ------------------------                 6.6/10.8 MB 1.6 MB/s eta 0:00:03\n",
      "     ------------------------                 6.6/10.8 MB 1.5 MB/s eta 0:00:03\n",
      "     ------------------------                 6.7/10.8 MB 1.5 MB/s eta 0:00:03\n",
      "     ------------------------                 6.7/10.8 MB 1.5 MB/s eta 0:00:03\n",
      "     ------------------------                 6.7/10.8 MB 1.5 MB/s eta 0:00:03\n",
      "     -------------------------                6.7/10.8 MB 1.5 MB/s eta 0:00:03\n",
      "     -------------------------                6.7/10.8 MB 1.5 MB/s eta 0:00:03\n",
      "     -------------------------                6.7/10.8 MB 1.5 MB/s eta 0:00:03\n",
      "     -------------------------                6.7/10.8 MB 1.5 MB/s eta 0:00:03\n",
      "     -------------------------                6.8/10.8 MB 1.4 MB/s eta 0:00:03\n",
      "     -------------------------                6.8/10.8 MB 1.4 MB/s eta 0:00:03\n",
      "     -------------------------                6.8/10.8 MB 1.4 MB/s eta 0:00:03\n",
      "     -------------------------                6.9/10.8 MB 1.4 MB/s eta 0:00:03\n",
      "     -------------------------                6.9/10.8 MB 1.4 MB/s eta 0:00:03\n",
      "     -------------------------                6.9/10.8 MB 1.4 MB/s eta 0:00:03\n",
      "     -------------------------                7.0/10.8 MB 1.4 MB/s eta 0:00:03\n",
      "     --------------------------               7.0/10.8 MB 1.4 MB/s eta 0:00:03\n",
      "     --------------------------               7.0/10.8 MB 1.4 MB/s eta 0:00:03\n",
      "     --------------------------               7.0/10.8 MB 1.4 MB/s eta 0:00:03\n",
      "     --------------------------               7.0/10.8 MB 1.4 MB/s eta 0:00:03\n",
      "     --------------------------               7.0/10.8 MB 1.4 MB/s eta 0:00:03\n",
      "     --------------------------               7.0/10.8 MB 1.3 MB/s eta 0:00:03\n",
      "     --------------------------               7.1/10.8 MB 1.3 MB/s eta 0:00:03\n",
      "     --------------------------               7.1/10.8 MB 1.3 MB/s eta 0:00:03\n",
      "     --------------------------               7.1/10.8 MB 1.3 MB/s eta 0:00:03\n",
      "     --------------------------               7.1/10.8 MB 1.3 MB/s eta 0:00:03\n",
      "     --------------------------               7.1/10.8 MB 1.3 MB/s eta 0:00:03\n",
      "     --------------------------               7.2/10.8 MB 1.3 MB/s eta 0:00:03\n",
      "     --------------------------               7.2/10.8 MB 1.3 MB/s eta 0:00:03\n",
      "     ---------------------------              7.3/10.8 MB 1.3 MB/s eta 0:00:03\n",
      "     ---------------------------              7.3/10.8 MB 1.3 MB/s eta 0:00:03\n",
      "     ---------------------------              7.3/10.8 MB 1.3 MB/s eta 0:00:03\n",
      "     ---------------------------              7.4/10.8 MB 1.3 MB/s eta 0:00:03\n",
      "     ---------------------------              7.4/10.8 MB 1.3 MB/s eta 0:00:03\n",
      "     ---------------------------              7.5/10.8 MB 1.3 MB/s eta 0:00:03\n",
      "     ---------------------------              7.5/10.8 MB 1.3 MB/s eta 0:00:03\n",
      "     ---------------------------              7.5/10.8 MB 1.3 MB/s eta 0:00:03\n",
      "     ---------------------------              7.5/10.8 MB 1.3 MB/s eta 0:00:03\n",
      "     ---------------------------              7.5/10.8 MB 1.3 MB/s eta 0:00:03\n",
      "     ---------------------------              7.5/10.8 MB 1.2 MB/s eta 0:00:03\n",
      "     ---------------------------              7.5/10.8 MB 1.2 MB/s eta 0:00:03\n",
      "     ---------------------------              7.5/10.8 MB 1.2 MB/s eta 0:00:03\n",
      "     ----------------------------             7.6/10.8 MB 1.2 MB/s eta 0:00:03\n",
      "     ----------------------------             7.6/10.8 MB 1.2 MB/s eta 0:00:03\n",
      "     ----------------------------             7.6/10.8 MB 1.2 MB/s eta 0:00:03\n",
      "     ----------------------------             7.6/10.8 MB 1.2 MB/s eta 0:00:03\n",
      "     ----------------------------             7.6/10.8 MB 1.2 MB/s eta 0:00:03\n",
      "     ----------------------------             7.6/10.8 MB 1.2 MB/s eta 0:00:03\n",
      "     ----------------------------             7.7/10.8 MB 1.2 MB/s eta 0:00:03\n",
      "     ----------------------------             7.7/10.8 MB 1.2 MB/s eta 0:00:03\n",
      "     ----------------------------             7.7/10.8 MB 1.2 MB/s eta 0:00:03\n",
      "     ----------------------------             7.7/10.8 MB 1.2 MB/s eta 0:00:03\n",
      "     ----------------------------             7.8/10.8 MB 1.2 MB/s eta 0:00:03\n",
      "     ----------------------------             7.8/10.8 MB 1.2 MB/s eta 0:00:03\n",
      "     ----------------------------             7.8/10.8 MB 1.2 MB/s eta 0:00:03\n",
      "     -----------------------------            7.8/10.8 MB 1.1 MB/s eta 0:00:03\n",
      "     -----------------------------            7.8/10.8 MB 1.1 MB/s eta 0:00:03\n",
      "     -----------------------------            7.9/10.8 MB 1.1 MB/s eta 0:00:03\n",
      "     -----------------------------            7.9/10.8 MB 1.1 MB/s eta 0:00:03\n",
      "     -----------------------------            7.9/10.8 MB 1.1 MB/s eta 0:00:03\n",
      "     -----------------------------            8.0/10.8 MB 1.1 MB/s eta 0:00:03\n",
      "     -----------------------------            8.0/10.8 MB 1.1 MB/s eta 0:00:03\n",
      "     -----------------------------            8.0/10.8 MB 1.1 MB/s eta 0:00:03\n",
      "     -----------------------------            8.1/10.8 MB 1.1 MB/s eta 0:00:03\n",
      "     ------------------------------           8.1/10.8 MB 1.1 MB/s eta 0:00:03\n",
      "     ------------------------------           8.1/10.8 MB 1.1 MB/s eta 0:00:03\n",
      "     ------------------------------           8.1/10.8 MB 1.1 MB/s eta 0:00:03\n",
      "     ------------------------------           8.1/10.8 MB 1.1 MB/s eta 0:00:03\n",
      "     ------------------------------           8.2/10.8 MB 1.1 MB/s eta 0:00:03\n",
      "     ------------------------------           8.2/10.8 MB 1.1 MB/s eta 0:00:03\n",
      "     ------------------------------           8.2/10.8 MB 1.1 MB/s eta 0:00:03\n",
      "     ------------------------------           8.2/10.8 MB 1.1 MB/s eta 0:00:03\n",
      "     ------------------------------           8.2/10.8 MB 1.1 MB/s eta 0:00:03\n",
      "     ------------------------------           8.2/10.8 MB 1.1 MB/s eta 0:00:03\n",
      "     ------------------------------           8.2/10.8 MB 1.1 MB/s eta 0:00:03\n",
      "     ------------------------------           8.2/10.8 MB 1.1 MB/s eta 0:00:03\n",
      "     ------------------------------           8.2/10.8 MB 1.1 MB/s eta 0:00:03\n",
      "     ------------------------------           8.2/10.8 MB 1.1 MB/s eta 0:00:03\n",
      "     ------------------------------           8.2/10.8 MB 1.0 MB/s eta 0:00:03\n",
      "     ------------------------------           8.2/10.8 MB 1.0 MB/s eta 0:00:03\n",
      "     ------------------------------           8.3/10.8 MB 1.0 MB/s eta 0:00:03\n",
      "     ------------------------------           8.3/10.8 MB 1.0 MB/s eta 0:00:03\n",
      "     ------------------------------           8.3/10.8 MB 1.0 MB/s eta 0:00:03\n",
      "     ------------------------------           8.3/10.8 MB 1.0 MB/s eta 0:00:03\n",
      "     ------------------------------           8.3/10.8 MB 1.0 MB/s eta 0:00:03\n",
      "     ------------------------------           8.3/10.8 MB 1.0 MB/s eta 0:00:03\n",
      "     -------------------------------          8.4/10.8 MB 1.0 MB/s eta 0:00:03\n",
      "     ------------------------------          8.4/10.8 MB 998.9 kB/s eta 0:00:03\n",
      "     ------------------------------          8.4/10.8 MB 996.3 kB/s eta 0:00:03\n",
      "     ------------------------------          8.5/10.8 MB 997.0 kB/s eta 0:00:03\n",
      "     ------------------------------          8.5/10.8 MB 993.9 kB/s eta 0:00:03\n",
      "     ------------------------------          8.5/10.8 MB 989.6 kB/s eta 0:00:03\n",
      "     -------------------------------         8.6/10.8 MB 990.2 kB/s eta 0:00:03\n",
      "     -------------------------------         8.6/10.8 MB 990.2 kB/s eta 0:00:03\n",
      "     -------------------------------         8.7/10.8 MB 991.2 kB/s eta 0:00:03\n",
      "     -------------------------------         8.7/10.8 MB 992.9 kB/s eta 0:00:03\n",
      "     -------------------------------         8.8/10.8 MB 995.2 kB/s eta 0:00:02\n",
      "     --------------------------------        8.9/10.8 MB 996.9 kB/s eta 0:00:02\n",
      "     --------------------------------        8.9/10.8 MB 998.0 kB/s eta 0:00:02\n",
      "     --------------------------------        8.9/10.8 MB 998.0 kB/s eta 0:00:02\n",
      "     --------------------------------        8.9/10.8 MB 998.0 kB/s eta 0:00:02\n",
      "     --------------------------------        9.0/10.8 MB 988.1 kB/s eta 0:00:02\n",
      "     --------------------------------        9.0/10.8 MB 987.0 kB/s eta 0:00:02\n",
      "     --------------------------------        9.0/10.8 MB 986.4 kB/s eta 0:00:02\n",
      "     --------------------------------        9.0/10.8 MB 986.4 kB/s eta 0:00:02\n",
      "     --------------------------------        9.0/10.8 MB 986.4 kB/s eta 0:00:02\n",
      "     --------------------------------        9.1/10.8 MB 972.1 kB/s eta 0:00:02\n",
      "     --------------------------------        9.1/10.8 MB 972.6 kB/s eta 0:00:02\n",
      "     ---------------------------------       9.1/10.8 MB 969.4 kB/s eta 0:00:02\n",
      "     ---------------------------------       9.1/10.8 MB 969.4 kB/s eta 0:00:02\n",
      "     ---------------------------------       9.1/10.8 MB 969.4 kB/s eta 0:00:02\n",
      "     ---------------------------------       9.1/10.8 MB 958.4 kB/s eta 0:00:02\n",
      "     ---------------------------------       9.2/10.8 MB 955.8 kB/s eta 0:00:02\n",
      "     ---------------------------------       9.2/10.8 MB 953.8 kB/s eta 0:00:02\n",
      "     ---------------------------------       9.2/10.8 MB 951.3 kB/s eta 0:00:02\n",
      "     ---------------------------------       9.2/10.8 MB 949.8 kB/s eta 0:00:02\n",
      "     ---------------------------------       9.3/10.8 MB 946.8 kB/s eta 0:00:02\n",
      "     ---------------------------------       9.3/10.8 MB 947.6 kB/s eta 0:00:02\n",
      "     ---------------------------------       9.4/10.8 MB 948.3 kB/s eta 0:00:02\n",
      "     ----------------------------------      9.4/10.8 MB 946.9 kB/s eta 0:00:02\n",
      "     ----------------------------------      9.4/10.8 MB 946.5 kB/s eta 0:00:02\n",
      "     ----------------------------------      9.5/10.8 MB 949.2 kB/s eta 0:00:02\n",
      "     ----------------------------------      9.5/10.8 MB 948.9 kB/s eta 0:00:02\n",
      "     ----------------------------------      9.6/10.8 MB 949.5 kB/s eta 0:00:02\n",
      "     -----------------------------------     9.7/10.8 MB 952.2 kB/s eta 0:00:02\n",
      "     -----------------------------------     9.7/10.8 MB 953.9 kB/s eta 0:00:02\n",
      "     -----------------------------------     9.8/10.8 MB 955.6 kB/s eta 0:00:02\n",
      "     -----------------------------------     9.8/10.8 MB 957.1 kB/s eta 0:00:01\n",
      "     -----------------------------------     9.8/10.8 MB 957.1 kB/s eta 0:00:01\n",
      "     -----------------------------------     9.8/10.8 MB 957.1 kB/s eta 0:00:01\n",
      "     -----------------------------------     9.8/10.8 MB 957.1 kB/s eta 0:00:01\n",
      "     -----------------------------------     9.8/10.8 MB 957.1 kB/s eta 0:00:01\n",
      "     -----------------------------------     9.9/10.8 MB 937.7 kB/s eta 0:00:01\n",
      "     -----------------------------------     9.9/10.8 MB 936.9 kB/s eta 0:00:01\n",
      "     -----------------------------------     9.9/10.8 MB 935.7 kB/s eta 0:00:01\n",
      "     -----------------------------------    10.0/10.8 MB 935.0 kB/s eta 0:00:01\n",
      "     -----------------------------------    10.0/10.8 MB 934.7 kB/s eta 0:00:01\n",
      "     -----------------------------------    10.1/10.8 MB 935.4 kB/s eta 0:00:01\n",
      "     -----------------------------------    10.1/10.8 MB 935.1 kB/s eta 0:00:01\n",
      "     -----------------------------------    10.2/10.8 MB 937.7 kB/s eta 0:00:01\n",
      "     ------------------------------------   10.2/10.8 MB 939.3 kB/s eta 0:00:01\n",
      "     ------------------------------------   10.3/10.8 MB 938.0 kB/s eta 0:00:01\n",
      "     ------------------------------------   10.4/10.8 MB 935.3 kB/s eta 0:00:01\n",
      "     ------------------------------------   10.4/10.8 MB 932.6 kB/s eta 0:00:01\n",
      "     ------------------------------------   10.5/10.8 MB 931.3 kB/s eta 0:00:01\n",
      "     -------------------------------------  10.5/10.8 MB 928.7 kB/s eta 0:00:01\n",
      "     -------------------------------------  10.5/10.8 MB 928.7 kB/s eta 0:00:01\n",
      "     -------------------------------------  10.5/10.8 MB 928.7 kB/s eta 0:00:01\n",
      "     -------------------------------------  10.6/10.8 MB 917.0 kB/s eta 0:00:01\n",
      "     -------------------------------------  10.6/10.8 MB 914.4 kB/s eta 0:00:01\n",
      "     -------------------------------------  10.6/10.8 MB 914.4 kB/s eta 0:00:01\n",
      "     -------------------------------------  10.6/10.8 MB 914.4 kB/s eta 0:00:01\n",
      "     -------------------------------------  10.7/10.8 MB 901.8 kB/s eta 0:00:01\n",
      "     -------------------------------------  10.7/10.8 MB 899.3 kB/s eta 0:00:01\n",
      "     -------------------------------------  10.7/10.8 MB 896.9 kB/s eta 0:00:01\n",
      "     -------------------------------------  10.8/10.8 MB 893.2 kB/s eta 0:00:01\n",
      "     -------------------------------------- 10.8/10.8 MB 889.4 kB/s eta 0:00:00\n",
      "Installing collected packages: faiss-cpu\n",
      "Successfully installed faiss-cpu-1.7.4\n"
     ]
    }
   ],
   "source": [
    "from dotenv import load_dotenv\n",
    "import os\n",
    "\n",
    "# Laden Sie die Umgebungsvariablen aus der .env-Datei\n",
    "load_dotenv()\n",
    "API_KEY = os.environ.get(\"API_KEY\")"
   ]
  },
  {
   "attachments": {},
   "cell_type": "markdown",
   "metadata": {},
   "source": [
    "## Loaders  \n",
    "To use data with an LLM, documents must first be loaded into a vector database. \n",
    "The first step is to load them into memory via a loader"
   ]
  },
  {
   "cell_type": "code",
   "execution_count": 3,
   "metadata": {},
   "outputs": [
    {
     "name": "stderr",
     "output_type": "stream",
     "text": [
      "100%|██████████| 3/3 [00:00<00:00, 752.30it/s]\n"
     ]
    }
   ],
   "source": [
    "from langchain.document_loaders import DirectoryLoader, TextLoader\n",
    "\n",
    "loader = DirectoryLoader(\n",
    "    \"./FAQ\", glob=\"**/*.txt\", loader_cls=TextLoader, show_progress=True\n",
    ")\n",
    "docs = loader.load()"
   ]
  },
  {
   "attachments": {},
   "cell_type": "markdown",
   "metadata": {},
   "source": [
    "## Text splitter\n",
    "Texts are not loaded 1:1 into the database, but in pieces, so called \"chunks\". You can define the chunk size and the overlap between the chunks."
   ]
  },
  {
   "cell_type": "code",
   "execution_count": 4,
   "metadata": {},
   "outputs": [
    {
     "data": {
      "text/plain": [
       "Document(page_content='Q: What are the hours of operation for your restaurant?\\nA: Our restaurant is open from 11 a.m. to 10 p.m. from Monday to Saturday. On Sundays, we open at 12 p.m. and close at 9 p.m.\\n\\nQ: What type of cuisine does your restaurant serve?\\nA: Our restaurant specializes in contemporary American cuisine with an emphasis on local and sustainable ingredients.', metadata={'source': 'FAQ\\\\General.txt'})"
      ]
     },
     "execution_count": 4,
     "metadata": {},
     "output_type": "execute_result"
    }
   ],
   "source": [
    "from langchain.text_splitter import RecursiveCharacterTextSplitter\n",
    "\n",
    "text_splitter = RecursiveCharacterTextSplitter(\n",
    "    chunk_size=500,\n",
    "    chunk_overlap=100,\n",
    ")\n",
    "\n",
    "documents = text_splitter.split_documents(docs)\n",
    "documents[0]"
   ]
  },
  {
   "attachments": {},
   "cell_type": "markdown",
   "metadata": {},
   "source": [
    "## Embeddings\n",
    "Texts are not stored as text in the database, but as vector representations.\n",
    "Embeddings are a type of word representation that represents the semantic meaning of words in a vector space."
   ]
  },
  {
   "cell_type": "code",
   "execution_count": 5,
   "metadata": {},
   "outputs": [],
   "source": [
    "from langchain.embeddings import OpenAIEmbeddings\n",
    "\n",
    "embeddings = OpenAIEmbeddings(openai_api_key=API_KEY)"
   ]
  },
  {
   "attachments": {},
   "cell_type": "markdown",
   "metadata": {},
   "source": [
    "## Loading Vectors into VectorDB (FAISS)\n",
    "As created by OpenAIEmbeddings vectors can now be stored in the database. The DB can be stored as .pkl file"
   ]
  },
  {
   "cell_type": "code",
   "execution_count": 7,
   "metadata": {},
   "outputs": [],
   "source": [
    "from langchain.vectorstores.faiss import FAISS\n",
    "import pickle\n",
    "\n",
    "vectorstore = FAISS.from_documents(documents, embeddings)\n",
    "\n",
    "with open(\"vectorstore.pkl\", \"wb\") as f:\n",
    "    pickle.dump(vectorstore, f)"
   ]
  },
  {
   "attachments": {},
   "cell_type": "markdown",
   "metadata": {},
   "source": [
    "## Loading the database\n",
    "Before using the database, it must of course be loaded again."
   ]
  },
  {
   "cell_type": "code",
   "execution_count": 8,
   "metadata": {},
   "outputs": [],
   "source": [
    "with open(\"vectorstore.pkl\", \"rb\") as f:\n",
    "    vectorstore = pickle.load(f)"
   ]
  },
  {
   "attachments": {},
   "cell_type": "markdown",
   "metadata": {},
   "source": [
    "## Prompts\n",
    "With an LLM you have the possibility to give it an identity before a conversation or to define how question and answer should look like."
   ]
  },
  {
   "cell_type": "code",
   "execution_count": 9,
   "metadata": {},
   "outputs": [],
   "source": [
    "from langchain.prompts import PromptTemplate\n",
    "\n",
    "prompt_template = \"\"\"You are a helpful assistant for our restaurant.\n",
    "\n",
    "{context}\n",
    "\n",
    "Question: {question}\n",
    "Answer here:\"\"\"\n",
    "PROMPT = PromptTemplate(\n",
    "    template=prompt_template, input_variables=[\"context\", \"question\"]\n",
    ")"
   ]
  },
  {
   "attachments": {},
   "cell_type": "markdown",
   "metadata": {},
   "source": [
    "## Chains\n",
    "With chain classes you can easily influence the behavior of the LLM"
   ]
  },
  {
   "cell_type": "code",
   "execution_count": 10,
   "metadata": {},
   "outputs": [
    {
     "data": {
      "text/plain": [
       "' Our restaurant is open from 11 a.m. to 10 p.m. from Monday to Saturday. On Sundays, we open at 12 p.m. and close at 9 p.m.'"
      ]
     },
     "execution_count": 10,
     "metadata": {},
     "output_type": "execute_result"
    }
   ],
   "source": [
    "from langchain.llms import OpenAI\n",
    "from langchain.chains import RetrievalQA\n",
    "\n",
    "chain_type_kwargs = {\"prompt\": PROMPT}\n",
    "\n",
    "llm = OpenAI(openai_api_key=API_KEY)\n",
    "qa = RetrievalQA.from_chain_type(\n",
    "    llm=llm,\n",
    "    chain_type=\"stuff\",\n",
    "    retriever=vectorstore.as_retriever(),\n",
    "    chain_type_kwargs=chain_type_kwargs,\n",
    ")\n",
    "\n",
    "query = \"When does the restaurant open?\"\n",
    "qa.run(query)"
   ]
  },
  {
   "attachments": {},
   "cell_type": "markdown",
   "metadata": {},
   "source": [
    "## Memory\n",
    "In the example just shown, each request stands alone. A great strength of an LLM, however, is that it can take the entire chat history into account when responding. For this, however, a chat history must be built up from the different questions and answers. With different memory classes this is very easy in Langchain."
   ]
  },
  {
   "cell_type": "code",
   "execution_count": 11,
   "metadata": {},
   "outputs": [],
   "source": [
    "from langchain.memory import ConversationBufferMemory\n",
    "\n",
    "memory = ConversationBufferMemory(\n",
    "    memory_key=\"chat_history\", return_messages=True, output_key=\"answer\"\n",
    ")"
   ]
  },
  {
   "attachments": {},
   "cell_type": "markdown",
   "metadata": {},
   "source": [
    "## Use Memory in Chains\n",
    "The memory class can now easily be used in a chain. This is recognizable, for example, by the fact that when one speaks of \"it\", the bot understands the rabbit in this context."
   ]
  },
  {
   "cell_type": "code",
   "execution_count": 13,
   "metadata": {},
   "outputs": [
    {
     "data": {
      "text/plain": [
       "{'question': 'How much does it cost?',\n",
       " 'chat_history': [HumanMessage(content='Do you offer vegan food?', additional_kwargs={}, example=False),\n",
       "  AIMessage(content=' Yes, we offer a variety of vegan options. Our staff can provide more details about the ingredients and preparation methods for each dish.', additional_kwargs={}, example=False),\n",
       "  HumanMessage(content='How much does it cost?', additional_kwargs={}, example=False),\n",
       "  AIMessage(content=' The price of our vegan dishes vary according to the dish itself, please refer to our menu for specific prices.', additional_kwargs={}, example=False),\n",
       "  HumanMessage(content='Do you offer vegan food?', additional_kwargs={}, example=False),\n",
       "  AIMessage(content=' We offer a variety of vegan dishes including our Roasted Vegetable Salad, our Vegetable Curry, and our Lentil Soup.', additional_kwargs={}, example=False),\n",
       "  HumanMessage(content='How much does it cost?', additional_kwargs={}, example=False),\n",
       "  AIMessage(content=' Our vegan dishes range in price from $10-$25 depending on the dish. Please check with our staff for specific prices.', additional_kwargs={}, example=False)],\n",
       " 'answer': ' Our vegan dishes range in price from $10-$25 depending on the dish. Please check with our staff for specific prices.'}"
      ]
     },
     "execution_count": 13,
     "metadata": {},
     "output_type": "execute_result"
    }
   ],
   "source": [
    "from langchain.chains import ConversationalRetrievalChain\n",
    "\n",
    "qa = ConversationalRetrievalChain.from_llm(\n",
    "    llm=OpenAI(model_name=\"text-davinci-003\", temperature=0.7, openai_api_key=API_KEY),\n",
    "    memory=memory,\n",
    "    retriever=vectorstore.as_retriever(),\n",
    "    combine_docs_chain_kwargs={\"prompt\": PROMPT},\n",
    ")\n",
    "\n",
    "\n",
    "query = \"Do you offer vegan food?\"\n",
    "qa({\"question\": query})\n",
    "qa({\"question\": \"How much does it cost?\"})"
   ]
  }
 ],
 "metadata": {
  "kernelspec": {
   "display_name": "Python 3",
   "language": "python",
   "name": "python3"
  },
  "language_info": {
   "codemirror_mode": {
    "name": "ipython",
    "version": 3
   },
   "file_extension": ".py",
   "mimetype": "text/x-python",
   "name": "python",
   "nbconvert_exporter": "python",
   "pygments_lexer": "ipython3",
   "version": "3.11.3"
  },
  "orig_nbformat": 4
 },
 "nbformat": 4,
 "nbformat_minor": 2
}
